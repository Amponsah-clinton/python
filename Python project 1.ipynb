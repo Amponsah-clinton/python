{
 "cells": [
  {
   "cell_type": "code",
   "execution_count": 41,
   "id": "876c47f0-cf97-4938-a41f-e211675d1467",
   "metadata": {},
   "outputs": [
    {
     "name": "stdin",
     "output_type": "stream",
     "text": [
      "Enter the amount of pennies  200\n",
      "Enter the amount of nickles  1\n",
      "Enter the amount of dimes  1\n",
      "Enter the amount of quaters  1\n"
     ]
    },
    {
     "name": "stdout",
     "output_type": "stream",
     "text": [
      "Your amount entered is 2.4 and it is greater than a dollar \n"
     ]
    }
   ],
   "source": [
    "\n",
    "pennies=int(input(\"Enter the amount of pennies \"))\n",
    "nickles=int(input(\"Enter the amount of nickles \"))\n",
    "dimes=int(input(\"Enter the amount of dimes \"))\n",
    "quaters=int(input(\"Enter the amount of quaters \"))\n",
    "\n",
    "total_pennies_entered_in_dollars= 0.01*pennies\n",
    "total_nickles_entered_in_dollars= 0.05* nickles\n",
    "total_dimes_entered_in_dollars= 0.10* dimes\n",
    "total_quaters_entered_in_dollars= 0.25* quaters\n",
    "\n",
    "Total_sum_of_all_entered_money = total_quaters_entered_in_dollars  + total_pennies_entered_in_dollars+ total_dimes_entered_in_dollars  + total_nickles_entered_in_dollars\n",
    "\n",
    "\n",
    "if Total_sum_of_all_entered_money > 1:\n",
    "    print(f\"Your amount entered is {Total_sum_of_all_entered_money} and it is greater than a dollar \")\n",
    "elif Total_sum_of_all_entered_money < 1:\n",
    "    print(f\"Your amount entered is {Total_sum_of_all_entered_money} and it is less than a dollar\")\n",
    "else:\n",
    "    print( \"Congratulations your money is up to one dollar(1$)\")\n",
    "\n",
    "\n",
    "\n"
   ]
  },
  {
   "cell_type": "code",
   "execution_count": null,
   "id": "4b6513f0-de4f-46ba-9631-028642e0c8b2",
   "metadata": {},
   "outputs": [],
   "source": []
  },
  {
   "cell_type": "code",
   "execution_count": null,
   "id": "38d3fec4-e32d-4111-b370-083485f594bd",
   "metadata": {},
   "outputs": [],
   "source": []
  }
 ],
 "metadata": {
  "kernelspec": {
   "display_name": "Python 3 (ipykernel)",
   "language": "python",
   "name": "python3"
  },
  "language_info": {
   "codemirror_mode": {
    "name": "ipython",
    "version": 3
   },
   "file_extension": ".py",
   "mimetype": "text/x-python",
   "name": "python",
   "nbconvert_exporter": "python",
   "pygments_lexer": "ipython3",
   "version": "3.9.12"
  }
 },
 "nbformat": 4,
 "nbformat_minor": 5
}
